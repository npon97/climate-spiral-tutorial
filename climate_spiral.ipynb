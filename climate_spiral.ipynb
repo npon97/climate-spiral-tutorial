{
 "cells": [
  {
   "cell_type": "code",
   "execution_count": 3,
   "metadata": {},
   "outputs": [
    {
     "data": {
      "text/plain": [
       "<bound method NDFrame.keys of             0      1\n",
       "0     1850/01 -0.700\n",
       "1     1850/02 -0.286\n",
       "2     1850/03 -0.732\n",
       "3     1850/04 -0.563\n",
       "4     1850/05 -0.327\n",
       "...       ...    ...\n",
       "2058  2021/07  0.725\n",
       "2059  2021/08  0.711\n",
       "2060  2021/09  0.681\n",
       "2061  2021/10  0.729\n",
       "2062  2021/11  0.710\n",
       "\n",
       "[2063 rows x 2 columns]>"
      ]
     },
     "execution_count": 3,
     "metadata": {},
     "output_type": "execute_result"
    }
   ],
   "source": [
    "import matplotlib.pyplot as plt\n",
    "import pandas as pd\n",
    "\n",
    "PATH_HADCRUT_MNTHLY_AVG = \"/home/phippsy/Projects/ClimateAmbassador/\\\n",
    "visualizations/data/HadCRUT.4.6.0.0.monthly_ns_avg.tsv\"\n",
    "\n",
    "hadcrut = pd.read_csv(\n",
    "    PATH_HADCRUT_MNTHLY_AVG,\n",
    "    delim_whitespace=True,\n",
    "    usecols=[0,1],\n",
    "    header=None)\n",
    "\n",
    "hadcrut.keys"
   ]
  },
  {
   "cell_type": "code",
   "execution_count": 4,
   "metadata": {},
   "outputs": [
    {
     "data": {
      "text/html": [
       "<div>\n",
       "<style scoped>\n",
       "    .dataframe tbody tr th:only-of-type {\n",
       "        vertical-align: middle;\n",
       "    }\n",
       "\n",
       "    .dataframe tbody tr th {\n",
       "        vertical-align: top;\n",
       "    }\n",
       "\n",
       "    .dataframe thead th {\n",
       "        text-align: right;\n",
       "    }\n",
       "</style>\n",
       "<table border=\"1\" class=\"dataframe\">\n",
       "  <thead>\n",
       "    <tr style=\"text-align: right;\">\n",
       "      <th></th>\n",
       "      <th>0</th>\n",
       "      <th>1</th>\n",
       "    </tr>\n",
       "  </thead>\n",
       "  <tbody>\n",
       "    <tr>\n",
       "      <th>0</th>\n",
       "      <td>1850/01</td>\n",
       "      <td>-0.700</td>\n",
       "    </tr>\n",
       "    <tr>\n",
       "      <th>1</th>\n",
       "      <td>1850/02</td>\n",
       "      <td>-0.286</td>\n",
       "    </tr>\n",
       "    <tr>\n",
       "      <th>2</th>\n",
       "      <td>1850/03</td>\n",
       "      <td>-0.732</td>\n",
       "    </tr>\n",
       "    <tr>\n",
       "      <th>3</th>\n",
       "      <td>1850/04</td>\n",
       "      <td>-0.563</td>\n",
       "    </tr>\n",
       "    <tr>\n",
       "      <th>4</th>\n",
       "      <td>1850/05</td>\n",
       "      <td>-0.327</td>\n",
       "    </tr>\n",
       "    <tr>\n",
       "      <th>...</th>\n",
       "      <td>...</td>\n",
       "      <td>...</td>\n",
       "    </tr>\n",
       "    <tr>\n",
       "      <th>2058</th>\n",
       "      <td>2021/07</td>\n",
       "      <td>0.725</td>\n",
       "    </tr>\n",
       "    <tr>\n",
       "      <th>2059</th>\n",
       "      <td>2021/08</td>\n",
       "      <td>0.711</td>\n",
       "    </tr>\n",
       "    <tr>\n",
       "      <th>2060</th>\n",
       "      <td>2021/09</td>\n",
       "      <td>0.681</td>\n",
       "    </tr>\n",
       "    <tr>\n",
       "      <th>2061</th>\n",
       "      <td>2021/10</td>\n",
       "      <td>0.729</td>\n",
       "    </tr>\n",
       "    <tr>\n",
       "      <th>2062</th>\n",
       "      <td>2021/11</td>\n",
       "      <td>0.710</td>\n",
       "    </tr>\n",
       "  </tbody>\n",
       "</table>\n",
       "<p>2063 rows × 2 columns</p>\n",
       "</div>"
      ],
      "text/plain": [
       "            0      1\n",
       "0     1850/01 -0.700\n",
       "1     1850/02 -0.286\n",
       "2     1850/03 -0.732\n",
       "3     1850/04 -0.563\n",
       "4     1850/05 -0.327\n",
       "...       ...    ...\n",
       "2058  2021/07  0.725\n",
       "2059  2021/08  0.711\n",
       "2060  2021/09  0.681\n",
       "2061  2021/10  0.729\n",
       "2062  2021/11  0.710\n",
       "\n",
       "[2063 rows x 2 columns]"
      ]
     },
     "execution_count": 4,
     "metadata": {},
     "output_type": "execute_result"
    }
   ],
   "source": [
    "hadcrut"
   ]
  },
  {
   "cell_type": "code",
   "execution_count": 7,
   "metadata": {},
   "outputs": [
    {
     "data": {
      "text/plain": [
       "<bound method NDFrame.keys of             0      1  year  month\n",
       "0     1850/01 -0.700  1850      1\n",
       "1     1850/02 -0.286  1850      2\n",
       "2     1850/03 -0.732  1850      3\n",
       "3     1850/04 -0.563  1850      4\n",
       "4     1850/05 -0.327  1850      5\n",
       "...       ...    ...   ...    ...\n",
       "2058  2021/07  0.725  2021      7\n",
       "2059  2021/08  0.711  2021      8\n",
       "2060  2021/09  0.681  2021      9\n",
       "2061  2021/10  0.729  2021     10\n",
       "2062  2021/11  0.710  2021     11\n",
       "\n",
       "[2063 rows x 4 columns]>"
      ]
     },
     "execution_count": 7,
     "metadata": {},
     "output_type": "execute_result"
    }
   ],
   "source": [
    "hadcrut['year'] = hadcrut.iloc[:, 0].apply(lambda x: x.split(\"/\")[0]).astype(int)\n",
    "hadcrut['month'] = hadcrut.iloc[:, 0].apply(lambda x: x.split(\"/\")[1]).astype(int)\n",
    "hadcrut.keys"
   ]
  }
 ],
 "metadata": {
  "interpreter": {
   "hash": "916dbcbb3f70747c44a77c7bcd40155683ae19c65e1c03b4aa3499c5328201f1"
  },
  "kernelspec": {
   "display_name": "Python 3.8.10 64-bit",
   "language": "python",
   "name": "python3"
  },
  "language_info": {
   "codemirror_mode": {
    "name": "ipython",
    "version": 3
   },
   "file_extension": ".py",
   "mimetype": "text/x-python",
   "name": "python",
   "nbconvert_exporter": "python",
   "pygments_lexer": "ipython3",
   "version": "3.8.10"
  },
  "orig_nbformat": 4
 },
 "nbformat": 4,
 "nbformat_minor": 2
}
